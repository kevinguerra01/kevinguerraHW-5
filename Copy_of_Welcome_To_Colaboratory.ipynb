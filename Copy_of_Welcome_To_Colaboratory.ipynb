{
  "nbformat": 4,
  "nbformat_minor": 0,
  "metadata": {
    "colab": {
      "name": "Copy of Welcome To Colaboratory",
      "provenance": [],
      "collapsed_sections": []
    },
    "kernelspec": {
      "display_name": "Python 3",
      "name": "python3"
    }
  },
  "cells": [
    {
      "cell_type": "code",
      "metadata": {
        "id": "cBIG_Ow23avl"
      },
      "source": [
        "age = input(\"please give me a number for your age\\t\")\n",
        " \n",
        "while not(age.isdigit()):\n",
        " age = input(\"please give me a number for your age\\t\")\n",
        " \n",
        "age = int(age)\n",
        " \n",
        "name = input(\"please give me your name\\t\")\n",
        "while not(name.isalpha()):\n",
        " name = input(\"please give me your name\\t\")\n",
        " \n",
        "counter = 0\n",
        "accepted = True\n",
        "while (age < 0 or age > 100):\n",
        " counter = counter + 1\n",
        " if (counter > 3):\n",
        "   accepted = False\n",
        "   break\n",
        " age = int(input(\"please give me a number for your age\\t\"))\n",
        " \n",
        "if accepted:\n",
        " print(\"acceptable: \", name, \" \", age)\n",
        "else:\n",
        " print(\"unacceptable\")\n"
      ],
      "execution_count": null,
      "outputs": []
    },
    {
      "cell_type": "code",
      "metadata": {
        "id": "o6xAmwk93fad"
      },
      "source": [
        "for x in range(3, 1000, 10):\n",
        " print(x, end= \"  |  \")\n"
      ],
      "execution_count": null,
      "outputs": []
    },
    {
      "cell_type": "code",
      "metadata": {
        "id": "DYuhIy3b3lwR"
      },
      "source": [
        "for count in range(100,0,-2):\n",
        " print (count, end= \"  |  \")\n"
      ],
      "execution_count": null,
      "outputs": []
    },
    {
      "cell_type": "code",
      "metadata": {
        "id": "QesFt_uc3oh9"
      },
      "source": [
        "for x in range(100, 1100, 100):\n",
        "print(x, end= \"  |  \")\n"
      ],
      "execution_count": null,
      "outputs": []
    }
  ]
}